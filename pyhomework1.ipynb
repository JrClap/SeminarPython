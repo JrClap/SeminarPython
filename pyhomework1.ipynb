{
  "nbformat": 4,
  "nbformat_minor": 0,
  "metadata": {
    "colab": {
      "provenance": [],
      "authorship_tag": "ABX9TyMsFEI9kwR30Wys2H0Yr9cT",
      "include_colab_link": true
    },
    "kernelspec": {
      "name": "python3",
      "display_name": "Python 3"
    },
    "language_info": {
      "name": "python"
    }
  },
  "cells": [
    {
      "cell_type": "markdown",
      "metadata": {
        "id": "view-in-github",
        "colab_type": "text"
      },
      "source": [
        "<a href=\"https://colab.research.google.com/github/JrClap/SeminarPython/blob/main/pyhomework1.ipynb\" target=\"_parent\"><img src=\"https://colab.research.google.com/assets/colab-badge.svg\" alt=\"Open In Colab\"/></a>"
      ]
    },
    {
      "cell_type": "markdown",
      "source": [
        "##Задача 2\n",
        "На складе лежат разные фрукты в разном количестве.\n",
        "Нужно написать функцию, которая на вход принимает любое количество названий фруктов и их количество, а возвращает общее количество фруктов на складе."
      ],
      "metadata": {
        "id": "mGOrr463oa9f"
      }
    },
    {
      "cell_type": "code",
      "source": [
        "def fruit_basket(**kwargs):\n",
        "    {print(f\"Фрукт {name} в количестве {values} шт\")\n",
        "     for name, values in kwargs.items()}\n",
        "    return print(f'Общее количество фруктов: {sum(kwargs.values())}')"
      ],
      "metadata": {
        "id": "sh2Ux_LpqWhG"
      },
      "execution_count": 2,
      "outputs": []
    },
    {
      "cell_type": "code",
      "source": [
        "fruit_basket(Лимоны = 15, Яблоки = 25, Персики = 51)"
      ],
      "metadata": {
        "colab": {
          "base_uri": "https://localhost:8080/"
        },
        "id": "NrsYNogkrML3",
        "outputId": "fa122c33-7de1-40f0-abaf-60af268b3ada"
      },
      "execution_count": 3,
      "outputs": [
        {
          "output_type": "stream",
          "name": "stdout",
          "text": [
            "Фрукт Лимоны в количестве 15 шт\n",
            "Фрукт Яблоки в количестве 25 шт\n",
            "Фрукт Персики в количестве 51 шт\n",
            "Общее количество фруктов: 91\n"
          ]
        }
      ]
    },
    {
      "cell_type": "markdown",
      "source": [
        "##Задача 3\n",
        "Дан список с затратами на рекламу. Но в данных есть ошибки, некоторые затраты имеют отрицательную величину. Удалите такие значения из списка и посчитайте суммарные затраты.\n",
        "\n",
        "Используйте list comprehensions."
      ],
      "metadata": {
        "id": "mVsmZZpyono2"
      }
    },
    {
      "cell_type": "code",
      "execution_count": 4,
      "metadata": {
        "id": "VY61N79EoH5j"
      },
      "outputs": [],
      "source": [
        "ad_spend = [100, 125, -90, 345, 655, -1, 0, 200]"
      ]
    },
    {
      "cell_type": "code",
      "source": [
        "def calculate_total_expenses(expenses):\n",
        "    positive_expenses = [i for i in expenses if i >= 0]\n",
        "    total_expenses = sum(positive_expenses)\n",
        "    return total_expenses"
      ],
      "metadata": {
        "id": "fJdBfmsqm-H2"
      },
      "execution_count": 5,
      "outputs": []
    },
    {
      "cell_type": "code",
      "source": [
        "total_expenses = calculate_total_expenses(ad_spend)\n",
        "print(f\"Суммарные затраты на рекламу: {total_expenses} $\")"
      ],
      "metadata": {
        "id": "6bjWN3fVoPI_",
        "colab": {
          "base_uri": "https://localhost:8080/"
        },
        "outputId": "883ab93d-b971-4919-80e9-5729724d2930"
      },
      "execution_count": 8,
      "outputs": [
        {
          "output_type": "stream",
          "name": "stdout",
          "text": [
            "Суммарные затраты на рекламу: 1425 $\n"
          ]
        }
      ]
    },
    {
      "cell_type": "markdown",
      "source": [
        "##Задача 4\n",
        "Даны два списка:\n",
        "1. Дата покупки;\n",
        "2. Суммы покупок по датам.\n",
        "\n",
        "###4.1 Найдите, какая выручка у компании в ноябре. Используйте list comprehensions.\n",
        "###4.2 Найдите выручку компании в зависимости от месяца.\n",
        "\n",
        "Для этого напишите функцию, которая на вход принимает список с датами и список с выручкой, а на выходе словарь, где ключи - это месяцы, а значения - это выручка.\n",
        "\n",
        "Используйте аннотирование типов."
      ],
      "metadata": {
        "id": "qfzdQXgJpL1m"
      }
    },
    {
      "cell_type": "code",
      "source": [
        "purchase_date = ['2021-09-14', '2021-12-15', '2021-09-08', '2021-12-05', '2021-10-09', '2021-09-30', \n",
        "                 '2021-12-22', '2021-11-29', '2021-12-24', '2021-11-26', '2021-10-27', '2021-12-18', \n",
        "                 '2021-11-09', '2021-11-23', '2021-09-27', '2021-10-02', '2021-12-27', '2021-09-20', \n",
        "                 '2021-12-13', '2021-11-01', '2021-11-09', '2021-12-06', '2021-12-08', '2021-10-09', \n",
        "                 '2021-10-31', '2021-09-30', '2021-11-09', '2021-12-13', '2021-10-26', '2021-12-09']\n",
        "amounts_dates = [1270, 8413, 9028, 3703, 5739, 4095, 295, 4944, 5723, 3701, 4471, 651, 7037, 4274, 6275, \n",
        "                 4988, 6930, 2971, 6592, 2004, 2822, 519, 3406, 2732, 5015, 2008, 316, 6333, 5700, 2887]"
      ],
      "metadata": {
        "id": "UTW_aMUxpZN2"
      },
      "execution_count": 13,
      "outputs": []
    },
    {
      "cell_type": "code",
      "source": [
        "revenue_november = sum([summa for data, summa in zip(purchase_date, amounts_dates) if data.startswith('2021-11')])\n",
        "print(\"Выручка компании в ноябре:\", revenue_november)"
      ],
      "metadata": {
        "colab": {
          "base_uri": "https://localhost:8080/"
        },
        "id": "1wq_u1TDGtuW",
        "outputId": "bf1f1d8b-8951-4844-a939-51db6d9f8596"
      },
      "execution_count": 15,
      "outputs": [
        {
          "output_type": "stream",
          "name": "stdout",
          "text": [
            "Выручка компании в ноябре: 25098\n"
          ]
        }
      ]
    },
    {
      "cell_type": "code",
      "source": [
        "from typing import List, Dict"
      ],
      "metadata": {
        "id": "iSFp8kJnNCQF"
      },
      "execution_count": 16,
      "outputs": []
    },
    {
      "cell_type": "code",
      "source": [
        "def calculate_revenue_by_month(dates: List[str], revenue: List[int]) -> Dict[str, int]:\n",
        "    revenue_by_month = {}\n",
        "    for date, amount in zip(dates, revenue):\n",
        "        month = date.split('-')[1]  # Извлечение месяца из даты\n",
        "        if month not in revenue_by_month:\n",
        "            revenue_by_month[month] = 0  # Инициализация выручки для нового месяца\n",
        "        revenue_by_month[month] += amount  # Добавление выручки к соответствующему месяцу\n",
        "\n",
        "    return revenue_by_month"
      ],
      "metadata": {
        "id": "HUTUeRXENFhc"
      },
      "execution_count": 17,
      "outputs": []
    },
    {
      "cell_type": "code",
      "source": [
        "calculate_revenue_by_month(purchase_date, amounts_dates)"
      ],
      "metadata": {
        "colab": {
          "base_uri": "https://localhost:8080/"
        },
        "id": "z9qatkstNdF8",
        "outputId": "27335b97-b499-4273-c8b6-e10c298c2931"
      },
      "execution_count": 23,
      "outputs": [
        {
          "output_type": "execute_result",
          "data": {
            "text/plain": [
              "{'09': 25647, '12': 45452, '10': 28645, '11': 25098}"
            ]
          },
          "metadata": {},
          "execution_count": 23
        }
      ]
    }
  ]
}